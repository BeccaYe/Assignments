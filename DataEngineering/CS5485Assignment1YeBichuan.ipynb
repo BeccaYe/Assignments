{
 "cells": [
  {
   "cell_type": "markdown",
   "metadata": {
    "colab_type": "text",
    "id": "view-in-github"
   },
   "source": [
    "<a href=\"https://colab.research.google.com/github/BeccaYe/Assignments/blob/main/DataEngineering/CS5485Assignment1YeBichuan.ipynb\" target=\"_parent\"><img src=\"https://colab.research.google.com/assets/colab-badge.svg\" alt=\"Open In Colab\"/></a>"
   ]
  },
  {
   "cell_type": "markdown",
   "metadata": {
    "id": "ZhheSqq05u4Z"
   },
   "source": [
    "# Question 1 - Data Acquisition\n",
    "(20 marks) Social media content, including blogs, articles, news, and Twitter posts, provides valuable insights for\n",
    "data science. Acquiring high-quality social media data is essential yet challenging. While crowdsourcing is an option,\n",
    "it can be costly; thus, we prefer to collect data through web scraping.\n",
    "Please collect 30 pieces of social media content from designated websites, ensuring that the data meets the\n",
    "following criteria:\n",
    "1. Include articles, blogs, news, or posts along with their comments.\n",
    "2. Focus solely on the textual content.\n",
    "3. Ensure the data is formatted in a structured way (e.g., JSON or CSV).\n",
    "We provide some social media websites that you can take a try.\n",
    "* https://english.news.cn\n",
    "* https://www.bbc.com/news\n",
    "* https://medium.com\n",
    "* https://twitter.com\n",
    "\n",
    "Please submit your code and the obtained social media data.\n"
   ]
  },
  {
   "cell_type": "code",
   "execution_count": 1,
   "metadata": {
    "colab": {
     "base_uri": "https://localhost:8080/"
    },
    "id": "Tj9mu8bj7ZpK",
    "outputId": "4c302541-9127-41af-8421-35cfc7b3f708"
   },
   "outputs": [
    {
     "name": "stdout",
     "output_type": "stream",
     "text": [
      "Requirement already satisfied: requests in d:\\codingtools\\anaconda\\lib\\site-packages (2.32.2)\n",
      "Requirement already satisfied: charset-normalizer<4,>=2 in d:\\codingtools\\anaconda\\lib\\site-packages (from requests) (2.0.4)\n",
      "Requirement already satisfied: idna<4,>=2.5 in d:\\codingtools\\anaconda\\lib\\site-packages (from requests) (3.7)\n",
      "Requirement already satisfied: urllib3<3,>=1.21.1 in d:\\codingtools\\anaconda\\lib\\site-packages (from requests) (2.2.2)\n",
      "Requirement already satisfied: certifi>=2017.4.17 in d:\\codingtools\\anaconda\\lib\\site-packages (from requests) (2024.7.4)\n",
      "Requirement already satisfied: bs4 in d:\\codingtools\\anaconda\\lib\\site-packages (0.0.2)\n",
      "Requirement already satisfied: beautifulsoup4 in d:\\codingtools\\anaconda\\lib\\site-packages (from bs4) (4.12.3)\n",
      "Requirement already satisfied: soupsieve>1.2 in d:\\codingtools\\anaconda\\lib\\site-packages (from beautifulsoup4->bs4) (2.5)\n"
     ]
    }
   ],
   "source": [
    "# Installing Libraries\n",
    "! pip install requests\n",
    "! pip install bs4"
   ]
  },
  {
   "cell_type": "code",
   "execution_count": 2,
   "metadata": {
    "colab": {
     "base_uri": "https://localhost:8080/"
    },
    "id": "bBj3u31YCwi2",
    "outputId": "220968ca-d4ea-4552-e8e8-125a857098f4"
   },
   "outputs": [],
   "source": [
    "# Import Libraries\n",
    "import requests as r\n",
    "from bs4 import BeautifulSoup\n",
    "\n",
    "# Find the Url of Target HTML\n",
    "url1 = r'https://english.news.cn/20240923/7bdc9bef77ea4816b3cda838c44a815f/c.html'\n",
    "\n",
    "# Obtain Html Framework and Contents\n",
    "res1 = r.get(url1)\n",
    "html1 = res1.text\n",
    "# print(html1)\n",
    "\n",
    "#  Reformat and Parse Html\n",
    "bf1 = BeautifulSoup(html1)\n",
    "# print(bf1.prettify())\n"
   ]
  },
  {
   "cell_type": "code",
   "execution_count": 3,
   "metadata": {
    "colab": {
     "base_uri": "https://localhost:8080/"
    },
    "id": "dYcOcmAREYnC",
    "outputId": "1f9f443f-f520-4711-c2f4-0f1052e56758"
   },
   "outputs": [
    {
     "name": "stdout",
     "output_type": "stream",
     "text": [
      "Title: China sees rising urbanization rate over past 75 years-Xinhua\n",
      "Source: Source: Xinhua\n",
      "Editor: Editor: huaxia\n",
      "Time: 2024-09-23 18:42:16\n",
      "Full Text: BEIJING, Sept. 23 (Xinhua) -- China's urbanization rate, which measures the ratio of permanent urban residents relative to the total population, rose by 55.52 percentage points from the end of 1949 to 66.16 percent by the end of 2023, data from the National Bureau of Statistics (NBS) showed Monday.Over the past 75 years since the founding of the People's Republic of China, the country has undergone the largest and fastest urbanization process in world history, the NBS said in a report.There were just 129 cities in China at the end of 1949, with a combined population of 39.49 million. The number of cities reached 694 at the end of 2023, while prefecture-level and larger cities were home to 673.13 million people. Among them, there were 29 cities each with a population exceeding 5 million and 11 cities each with a population of over 10 million.Remarkably, China's less-developed western region is rising, representing a more balanced urbanization process. Among the 11 prefecture-level cities that have been added since 2011, nine of them are located in the western region.As urbanization advances, China has lifted almost all limits on household registration in cities each with less than 3 million permanent residents, making it more convenient for those from rural areas to permanently settle down in cities.  ■\n",
      "\n",
      "Image Source: 202409237bdc9bef77ea4816b3cda838c44a815f_XxjwshE007043_20240923_CBMFN0A001.JPG\n",
      "Figure Caption: This aerial photo taken on Oct. 17, 2023 shows a city view of Lanzhou New Area in northwest China's Gansu Province. (Xinhua/Ma Xiping)\n"
     ]
    }
   ],
   "source": [
    "# Extract source\n",
    "source = bf1.find('p', class_='source').text.strip() if bf1.find('p', class_='source') else 'Source not found'\n",
    "# Extract title\n",
    "title = bf1.find('title').text.strip() if bf1.find('title') else 'Title not found'\n",
    "\n",
    "# Extract editor\n",
    "editor = bf1.find('p', class_='editor').text.strip() if bf1.find('p', class_='editor') else 'Editor not found'\n",
    "\n",
    "# Extract time\n",
    "time = bf1.find('p', class_='time').text.strip() if bf1.find('p', class_='time') else 'Time not found'\n",
    "\n",
    "# Extract full text\n",
    "full_text = ''\n",
    "content = bf1.find('span', id='detailContent') if bf1.find('span', id='detailContent') else 'Full text not found'\n",
    "paragraphs = content.find_all('p')\n",
    "for p in paragraphs:\n",
    "  full_text += p.text.strip()\n",
    "full_text += '\\n'\n",
    "# Extract figure source\n",
    "img_src = bf1.find('figure').find(\"img\").get('src') if bf1.find('figure').find(\"img\").get('src') else 'Image source not found'\n",
    "\n",
    "\n",
    "\n",
    "\n",
    "# Extract figure caption\n",
    "figure_caption = bf1.find('figure').find('figcaption').text.strip() if bf1.find('figcaption') else 'Figure Caption not found'\n",
    "\n",
    "# Print the extracted information\n",
    "print(f\"Title: {title}\")\n",
    "print(f\"Source: {source}\")\n",
    "print(f\"Editor: {editor}\")\n",
    "print(f\"Time: {time}\")\n",
    "print(f\"Full Text: {full_text}\")\n",
    "print(f\"Image Source: {img_src}\")\n",
    "print(f\"Figure Caption: {figure_caption}\")"
   ]
  },
  {
   "cell_type": "code",
   "execution_count": 4,
   "metadata": {},
   "outputs": [
    {
     "name": "stdout",
     "output_type": "stream",
     "text": [
      "Like link: ['https://english.news.cn/20240921/626dc0259be34675af7a67b1d7912634/c.html', 'https://english.news.cn/20240920/90f6eb49ad4c458eb669acc245b2ed11/c.html', 'https://english.news.cn/20240920/2b63d884396445329d247a828bc8dbc6/c.html', 'https://english.news.cn/20240919/eea956e21adc481cb4107ad2d3395436/c.html', 'https://english.news.cn/20240919/408aa11f51134c3297a38bdd7dc66301/c.html', 'https://english.news.cn/20240919/e99de54888074a68a01fbaadef2adc21/c.html']\n",
      "Like title: ['SW China\\'s Guizhou, the world\\'s \"Bridge Museum\"', 'China launches new Tianqi constellation satellites', 'Convention in east China highlights smart manufacturing', \"China's homegrown C919 aircraft arrives in Xizang for first time\", 'China launches two BeiDou navigation satellites', \"Huajiang Grand Canyon Bridge in southwest China's Guizhou completes setting of its main cables\"]\n"
     ]
    }
   ],
   "source": [
    "# Extract likes\n",
    "like_list = bf1.find('div', class_='like') if bf1.find('div', class_='like') else 'Likes list not found'\n",
    "likes = like_list.find_all('li')\n",
    "like_link = []\n",
    "like_title = []\n",
    "for l in likes :\n",
    "    like_link.append(l.find('h3').find('a', href=True)['href'])\n",
    "    like_title.append(l.find('h3').find('a').text.strip())\n",
    "\n",
    "print(f\"Like link: {like_link}\")\n",
    "print(f\"Like title: {like_title}\")"
   ]
  },
  {
   "cell_type": "code",
   "execution_count": 9,
   "metadata": {},
   "outputs": [],
   "source": [
    "# Find another Url\n",
    "url2 = r'https://www.bbc.com/news/live/c748xq4lgzyt'\n",
    "\n",
    "# Obtain Html Framework and Contents\n",
    "res2 = r.get(url2)\n",
    "html2 = res2.text\n",
    "# print(html2)\n",
    "\n",
    "#  Reformat and Parse Html\n",
    "bf2 = BeautifulSoup(html2)\n",
    "# print(bf2.prettify())\n"
   ]
  },
  {
   "cell_type": "code",
   "execution_count": 11,
   "metadata": {},
   "outputs": [
    {
     "name": "stdout",
     "output_type": "stream",
     "text": [
      "Summary: SummaryPowerful explosions have struck southern Beirut as Israel carries out fresh strikes on a suburb with a strong Hezbollah presenceThe Israeli military says it hit weapons storage facilities belonging to Hezbollah setting off secondary explosionsThe attacks come after Israel issued new evacuation orders in southern LebanonEarlier, the Israeli military said it had killed Hezbollah commander Khader Ali Tawil - Hezbollah has not yet commented Flights have resumed at two airports in Tehran, after Iran earlier announced a mass cancellation of flights amid warnings from Israel it will retaliate for Iran's missile attackTomorrow Israel will mark a year on from the 7 October Hamas attacks, which saw gunmen storm into Israel killing about 1,200 people and taking 251 hostage\n",
      "Contributors: Powerful explosions have struck southern Beirut as Israel carries out fresh strikes on a suburb with a strong Hezbollah presence\n",
      "Articles head: ['The latest developments in Lebanon and Israelpublished at 00:02 British Summer Time 7 October00:02 BST 7 October', 'Explosions send shockwaves across the citypublished at 23:37 British Summer Time 6 October23:37 BST 6 October', 'Woman, 84, on UK flight evacuated from Lebanonpublished at 23:06 British Summer Time 6 October23:06 BST 6 October', 'UK advises against all travel to parts of Israelpublished at 23:01 British Summer Time 6 October23:01 BST 6 October', 'Israeli military says it hit Hezbollah weapons facility in Beirutpublished at 22:58 British Summer Time 6 October22:58 BST 6 October', 'Watch: More powerful explosions seen in Beirutpublished at 22:41 British Summer Time 6 October22:41 BST 6 October', 'Nervous families wait for Brits evacuated from Lebanonpublished at 22:28 British Summer Time 6 October22:28 BST 6 October', 'Watch: Moment strike hits southern Beirut suburbpublished at 21:59 British Summer Time 6 October21:59 BST 6 October', 'Sirens sounding in northern Israelpublished at 21:49 British Summer Time 6 October21:49 BST 6 October', 'Airports in Tehran resume flightspublished at 21:39 British Summer Time 6 October21:39 BST 6 October', 'Last scheduled UK flight from Beirut returns to Birminghampublished at 21:35 British Summer Time 6 October21:35 BST 6 OctoberBreaking', 'Israeli missile strike hits southern Beirut againpublished at 21:17 British Summer Time 6 October21:17 BST 6 OctoberBreaking', 'UN refugee chief warns of humanitarian law violationspublished at 20:45 British Summer Time 6 October20:45 BST 6 October', 'Military bases in Syria hit - state mediapublished at 20:24 British Summer Time 6 October20:24 BST 6 OctoberBreaking', 'Israel poised to launch new strikes on Beirutpublished at 20:17 British Summer Time 6 October20:17 BST 6 OctoberBreaking', 'When will Israel hit Iran?published at 19:57 British Summer Time 6 October19:57 BST 6 October', \"World awaits Israel's response to Iran missile attackpublished at 19:33 British Summer Time 6 October19:33 BST 6 October\", \"UN forces 'deeply concerned' by IDF activities on borderpublished at 19:10 British Summer Time 6 October19:10 BST 6 October\", 'Explosions heard in central Syria, says state-run mediapublished at 18:51 British Summer Time 6 October18:51 BST 6 October', \"IDF declares three areas on Lebanon border 'closed military zones'published at 18:31 British Summer Time 6 October18:31 BST 6 October\"]\n",
      "Viewer count: Viewer count not found\n",
      "Main Heading:Powerful explosions as Israel strikes Beirut on eve of 7 October anniversary\n"
     ]
    }
   ],
   "source": [
    "# Extract summary\n",
    "summary = bf2.find('div', id='summaryPoints').text.strip() if bf2.find('div', id='summaryPoints') else 'Summary not found'\n",
    "\n",
    "# Extract contributors\n",
    "contributors = bf2.find('p', class_='ssrcss-1q0x1qg-Paragraph e1jhz7w10').text.strip() if bf2.find('p', class_='ssrcss-1q0x1qg-Paragraph e1jhz7w10') else 'Contributors not found'\n",
    "\n",
    "# Extract viewer count\n",
    "viewer_count = bf2.find('span', class_='ssrcss-15lohvb-CounterStringContainer e1naroyk0').text.strip() if bf2.find('span', class_='ssrcss-15lohvb-CounterStringContainer e1naroyk0') else 'Viewer count not found'\n",
    "\n",
    "# Extract main heading\n",
    "main_heading = bf2.find('h1', id='main-heading').text.strip() if bf2.find('h1', id='main-heading') else 'Main heading not found'\n",
    "\n",
    "\n",
    "# Extract articles\n",
    "article_list = bf2.find('ol', role='list') if bf2.find('ol', role='list') else 'Articles not found'\n",
    "articles = article_list.find_all('article')\n",
    "head = []\n",
    "for a in articles :\n",
    "    head.append(a.find('header').text.strip())\n",
    "\n",
    "\n",
    "\n",
    "print(f\"Summary: {summary}\")\n",
    "print(f\"Contributors: {contributors}\")\n",
    "print(f\"Articles head: {head}\")\n",
    "print(f\"Viewer count: {viewer_count}\")\n",
    "print(f\"Main Heading:{main_heading}\")"
   ]
  },
  {
   "cell_type": "code",
   "execution_count": 13,
   "metadata": {
    "colab": {
     "base_uri": "https://localhost:8080/"
    },
    "id": "0PnpDLciMTcR",
    "outputId": "4198250e-c895-45c2-e02a-7522049f8525"
   },
   "outputs": [],
   "source": [
    "# save as a csv file\n",
    "import csv\n",
    "data = [\n",
    "    [\"Title\", title],\n",
    "    [\"Source\", source],\n",
    "    [\"Editor\", editor],\n",
    "    [\"Time\", time],\n",
    "    [\"Full Text\", full_text],\n",
    "    [\"Image Source\", img_src],\n",
    "    [\"Figure Caption\", figure_caption],\n",
    "    [\"Viewer Count\", viewer_count],\n",
    "    [\"Main Heading\", main_heading]\n",
    "\n",
    "]\n",
    "\n",
    "# url1 likes info\n",
    "# like link\n",
    "for i, row in enumerate(like_link,start=1):\n",
    "     data.append([f'LikeLink{i}' , row])\n",
    "# like title\n",
    "for i, row in enumerate(like_title, start=1):\n",
    "     data.append([f'LikeTitle{i}' , row])\n",
    "\n",
    "\n",
    "for i, row in enumerate(head,start=1):\n",
    "     data.append([f'ArticleHead{i}' , row])\n",
    "\n",
    "filename = \"webData.csv\"\n",
    "\n",
    "with open(filename, mode='w', newline='', encoding='utf-8') as file:\n",
    "    writer = csv.writer(file)\n",
    "    writer.writerows(data)"
   ]
  },
  {
   "cell_type": "markdown",
   "metadata": {
    "id": "7yrTlTQZ6kvI"
   },
   "source": [
    "# Question 2 - Data Preprocessing\n",
    "(30 marks) Regular Expressions, abbreviated as Regex or Regexp, are a string of characters created within the framework of Regex syntax rules. You can easily manage your data with Regex, which uses commands like finding, matching, and editing. Regex is an important tool during the data preprocessing stage.\n",
    "\n",
    "We take some exercises about regular expressions in Python"
   ]
  },
  {
   "cell_type": "code",
   "execution_count": 16,
   "metadata": {},
   "outputs": [],
   "source": [
    "# import \n",
    "import re\n",
    "string = '192.268.0.1'"
   ]
  },
  {
   "cell_type": "markdown",
   "metadata": {
    "id": "p_JbCyJ16k5g"
   },
   "source": [
    "1. Write a pattern to check if a string contains only letters (both uppercase and lowercase).\n",
    "- Test cases: Hello, world, 123abc\n",
    "\n"
   ]
  },
  {
   "cell_type": "code",
   "execution_count": 19,
   "metadata": {
    "id": "VScJJzoh7Lc5"
   },
   "outputs": [],
   "source": [
    "pattern1 = r'^[a-zA-Z]+$'"
   ]
  },
  {
   "cell_type": "markdown",
   "metadata": {
    "id": "jYiFPfPg6lLw"
   },
   "source": [
    "2. Write a pattern to find all words that start with a vowel.\n",
    "- Test cases: apple, banana, orange, grape"
   ]
  },
  {
   "cell_type": "code",
   "execution_count": 22,
   "metadata": {
    "id": "ukntecYb6WMK"
   },
   "outputs": [],
   "source": [
    "pattern2 = r'^a|e|i|o|u'"
   ]
  },
  {
   "cell_type": "markdown",
   "metadata": {},
   "source": [
    "3. Write a pattern to validate an email address.\n",
    "- Test cases: test@example.com, invalid-email"
   ]
  },
  {
   "cell_type": "code",
   "execution_count": 197,
   "metadata": {},
   "outputs": [],
   "source": [
    "pattern3 = r'[\\w]+@[A-Za-z]+(\\.[A-Za-z0-9]+){1,2}'"
   ]
  },
  {
   "cell_type": "markdown",
   "metadata": {},
   "source": [
    "4. Write a pattern to extract all digits from a string.\n",
    "- Test cases: The price is 100 dollars and 50 cents."
   ]
  },
  {
   "cell_type": "code",
   "execution_count": 215,
   "metadata": {},
   "outputs": [
    {
     "data": {
      "text/plain": [
       "['123', '456']"
      ]
     },
     "execution_count": 215,
     "metadata": {},
     "output_type": "execute_result"
    }
   ],
   "source": [
    "pattern4 = r'\\d+'\n",
    "re.findall(pattern4, string)"
   ]
  },
  {
   "cell_type": "markdown",
   "metadata": {},
   "source": [
    " 5. Write a pattern to match a URL.\n",
    "- Test cases: https://www.example.com, ftp://example.com"
   ]
  },
  {
   "cell_type": "code",
   "execution_count": 235,
   "metadata": {},
   "outputs": [],
   "source": [
    "pattern5 = r'^(https?|ftp|file)://[-A-Za-z0-9+&@#/%?=~_|!:,.;]+[-A-Za-z0-9+&@#/%=~_|]'"
   ]
  },
  {
   "cell_type": "markdown",
   "metadata": {},
   "source": [
    " 6. Write a pattern to validate a US phone number format (e.g., (123) 456-7890)\n",
    "- Test cases: (123) 456-7890, 123-456-789"
   ]
  },
  {
   "cell_type": "code",
   "execution_count": 273,
   "metadata": {},
   "outputs": [],
   "source": [
    "pattern6 = r'^\\(\\d{3}\\) \\d{3}-\\d{4}$'"
   ]
  },
  {
   "cell_type": "markdown",
   "metadata": {},
   "source": [
    "7. Write a pattern to find a string that starts and ends with the same character.\n",
    "- Test cases: radar, hello, level"
   ]
  },
  {
   "cell_type": "code",
   "execution_count": 281,
   "metadata": {},
   "outputs": [],
   "source": [
    "pattern7 = r'^(.).*\\1$|(^.{1}$)'"
   ]
  },
  {
   "cell_type": "markdown",
   "metadata": {},
   "source": [
    " 8. Write a pattern to validate a complex password. The password must contain at least one uppercase letter, one\n",
    " lowercase letter, one digit, one special character, and be at least 8 characters long.\n",
    "- Test cases: Password1!, PASSWORD,1!, Pass"
   ]
  },
  {
   "cell_type": "code",
   "execution_count": 347,
   "metadata": {},
   "outputs": [],
   "source": [
    "pattern8 = r'^(?=.*[a-z])(?=.*[A-Z])(?=.*\\d)(?=.*[!@#$%^&*()_+\\-=\\[\\]{};\\':\"\\\\|,.<>\\/?])[A-Za-z\\d!@#$%^&*()_+\\-=\\[\\]{};\\':\"\\\\|,.<>\\/?]{8,}$'"
   ]
  },
  {
   "cell_type": "markdown",
   "metadata": {},
   "source": [
    "9. Write a regex pattern to identify and extract all instances of dates in the format dd-mm-yyyy or yyyy/mm/dd\n",
    " from a given text. The pattern should handle both formats in a single regex.\n",
    "- Test cases: I12-05-2023, 2023/06/15, and 01-01-2024."
   ]
  },
  {
   "cell_type": "code",
   "execution_count": 330,
   "metadata": {},
   "outputs": [],
   "source": [
    "pattern9 = r'^(\\d{2}-\\d{2}-\\d{4}|(\\d{4}/\\d{2}/\\d{2}))$'"
   ]
  },
  {
   "cell_type": "markdown",
   "metadata": {},
   "source": [
    " 10. Create a regex pattern that matches a valid IPv4 address. The address must consist of four octets separated by\n",
    " dots, where each octet is a number between 0 and 255.\n",
    "- Test cases: 192.168.0.1, 256.100.50.25, 172.16.254.1"
   ]
  },
  {
   "cell_type": "code",
   "execution_count": 359,
   "metadata": {},
   "outputs": [],
   "source": [
    "pattern10 = r'^((25[0-5]|2[0-4][0-9]|[01]?[0-9][0-9]?)\\.){3}(25[0-5]|2[0-4][0-9]|[01]?[0-9][0-9]?)$'"
   ]
  },
  {
   "cell_type": "code",
   "execution_count": 365,
   "metadata": {},
   "outputs": [
    {
     "name": "stdout",
     "output_type": "stream",
     "text": [
      "False\n"
     ]
    }
   ],
   "source": [
    "# validate\n",
    "result = re.match(pattern10,string)\n",
    "print(bool(result))"
   ]
  },
  {
   "cell_type": "markdown",
   "metadata": {},
   "source": [
    "# Question 3 - Data Processing\n",
    " (20 marks) The source files of Workshop on Statistical Machine Translation (WMT) are usually xml files. Before we\n",
    " train a model using these data, we should convert them from XML formt to line-based text. Please solve the following\n",
    " questions:\n",
    " 1. Please convert the data in this file 1 to the line-based text with your own Python codes. You need to remove all\n",
    " punctuation and convert all text to lowercase. You should submit your runnable codes and output file.\n"
   ]
  },
  {
   "cell_type": "code",
   "execution_count": 71,
   "metadata": {},
   "outputs": [],
   "source": [
    "import xml.etree.ElementTree as ET\n",
    "import string\n",
    "\n",
    "# load and parse xml\n",
    "tree = ET.parse('sample-hyp.xml')\n",
    "root = tree.getroot()\n",
    "\n",
    "# define a function that remove all punctuation from the text and convert it to lowercase.\n",
    "def clean_text(text):\n",
    "    \n",
    "    # Remove punctuation\n",
    "    cleaned_text = text.translate(str.maketrans('', '', string.punctuation))\n",
    "    \n",
    "    # Convert to lowercase\n",
    "    cleaned_text = cleaned_text.lower()\n",
    "    \n",
    "    return cleaned_text\n",
    "\n",
    "\n",
    "# store the en_corpus\n",
    "file_en = \"WMTsourceFile_en.txt\"\n",
    "# Open txt file for writing\n",
    "with open(file_en, mode='w', newline='', encoding='utf-8') as file:\n",
    "    # XML elements convert to lines\n",
    "    for item in root.findall('doc'):\n",
    "        segments_en = item.find('src').find('p')\n",
    "        for seg_en in segments_en.findall('seg') :\n",
    "            # write into the txt file\n",
    "            file.write(f'{clean_text(seg_en.text)}\\n')\n",
    "\n",
    "# store the ha_corpus\n",
    "file_ha = \"WMTsourceFile_ha.txt\"\n",
    "# Open txt file for writing\n",
    "with open(file_ha, mode='w', newline='', encoding='utf-8') as file:\n",
    "    # XML elements convert to lines\n",
    "    for item in root.findall('doc'):\n",
    "        segments_ha = item.find('hyp').find('p')\n",
    "        for seg_ha in segments_ha.findall('seg') :\n",
    "            # write into the txt file\n",
    "            file.write(f'{clean_text(seg_ha.text)}\\n')\n",
    "\n"
   ]
  },
  {
   "cell_type": "markdown",
   "metadata": {},
   "source": [
    " 2. After you obtain the line-based text file, please create a BPE vocabulary (save each BPE token line by line) with\n",
    " subword-nmt 2. You should submit your runnable codes and output file."
   ]
  },
  {
   "cell_type": "code",
   "execution_count": 75,
   "metadata": {},
   "outputs": [
    {
     "name": "stdout",
     "output_type": "stream",
     "text": [
      "Requirement already satisfied: subword-nmt in d:\\codingtools\\anaconda\\lib\\site-packages (0.3.8)\n",
      "Requirement already satisfied: mock in d:\\codingtools\\anaconda\\lib\\site-packages (from subword-nmt) (5.1.0)\n",
      "Requirement already satisfied: tqdm in d:\\codingtools\\anaconda\\lib\\site-packages (from subword-nmt) (4.66.4)\n",
      "Requirement already satisfied: colorama in d:\\codingtools\\anaconda\\lib\\site-packages (from tqdm->subword-nmt) (0.4.6)\n"
     ]
    }
   ],
   "source": [
    "!pip install subword-nmt"
   ]
  },
  {
   "cell_type": "code",
   "execution_count": 101,
   "metadata": {},
   "outputs": [
    {
     "name": "stderr",
     "output_type": "stream",
     "text": [
      "\n",
      "  0%|          | 0/3000 [00:00<?, ?it/s]\n",
      "  3%|3         | 97/3000 [00:00<00:03, 949.66it/s]\n",
      "  8%|7         | 230/3000 [00:00<00:02, 1159.40it/s]\n",
      " 12%|#1        | 358/3000 [00:00<00:02, 1204.60it/s]\n",
      " 16%|#5        | 479/3000 [00:00<00:02, 1191.65it/s]\n",
      " 20%|#9        | 599/3000 [00:00<00:02, 1149.34it/s]\n",
      " 24%|##3       | 715/3000 [00:00<00:01, 1144.99it/s]\n",
      " 28%|##7       | 832/3000 [00:00<00:01, 1149.06it/s]\n",
      " 32%|###1      | 948/3000 [00:00<00:01, 1151.12it/s]\n",
      " 36%|###5      | 1066/3000 [00:00<00:01, 1158.40it/s]\n",
      " 40%|###9      | 1192/3000 [00:01<00:01, 1187.80it/s]\n",
      " 44%|####4     | 1327/3000 [00:01<00:01, 1236.60it/s]\n",
      " 49%|####8     | 1469/3000 [00:01<00:01, 1290.68it/s]\n",
      " 54%|#####4    | 1630/3000 [00:01<00:01, 1352.56it/s]\n",
      " 60%|#####9    | 1795/3000 [00:01<00:00, 1426.88it/s]\n",
      " 65%|######5   | 1963/3000 [00:01<00:00, 1494.29it/s]\n",
      " 71%|#######1  | 2138/3000 [00:01<00:00, 1562.29it/s]\n",
      " 77%|#######7  | 2312/3000 [00:01<00:00, 1614.73it/s]\n",
      " 83%|########3 | 2499/3000 [00:01<00:00, 1686.17it/s]\n",
      " 90%|########9 | 2687/3000 [00:01<00:00, 1740.03it/s]\n",
      " 96%|#########6| 2891/3000 [00:02<00:00, 1825.39it/s]\n",
      "100%|##########| 3000/3000 [00:02<00:00, 1434.73it/s]\n",
      "\n",
      "  0%|          | 0/3000 [00:00<?, ?it/s]\n",
      "  4%|4         | 121/3000 [00:00<00:02, 1155.19it/s]\n",
      "  9%|8         | 262/3000 [00:00<00:02, 1299.77it/s]\n",
      " 14%|#3        | 407/3000 [00:00<00:01, 1345.64it/s]\n",
      " 19%|#8        | 556/3000 [00:00<00:01, 1400.12it/s]\n",
      " 24%|##3       | 706/3000 [00:00<00:01, 1420.26it/s]\n",
      " 29%|##8       | 858/3000 [00:00<00:01, 1452.68it/s]\n",
      " 34%|###3      | 1013/3000 [00:00<00:01, 1482.43it/s]\n",
      " 39%|###9      | 1181/3000 [00:00<00:01, 1531.47it/s]\n",
      " 44%|####4     | 1335/3000 [00:00<00:01, 1529.21it/s]\n",
      " 50%|####9     | 1492/3000 [00:01<00:00, 1536.95it/s]\n",
      " 55%|#####5    | 1662/3000 [00:01<00:00, 1586.19it/s]\n",
      " 62%|######1   | 1846/3000 [00:01<00:00, 1662.32it/s]\n",
      " 68%|######8   | 2051/3000 [00:01<00:00, 1776.83it/s]\n",
      " 77%|#######6  | 2297/3000 [00:01<00:00, 1933.92it/s]\n",
      " 84%|########4 | 2529/3000 [00:01<00:00, 2047.48it/s]\n",
      " 94%|#########3| 2811/3000 [00:01<00:00, 2273.62it/s]\n",
      "100%|##########| 3000/3000 [00:01<00:00, 1777.96it/s]\n"
     ]
    }
   ],
   "source": [
    "! subword-nmt learn-bpe -s 3000 <WMTsourceFile_en.txt> bpe_codes_en.txt\n",
    "! subword-nmt learn-bpe -s 3000 <WMTsourceFile_ha.txt> bpe_codes_ha.txt\n"
   ]
  },
  {
   "cell_type": "code",
   "execution_count": 99,
   "metadata": {},
   "outputs": [],
   "source": [
    "# en\n",
    "# Read the BPE codes and save them line by line\n",
    "with open('bpe_codes_en.txt', 'r', encoding='utf-8') as f:\n",
    "    bpe_tokens = f.readlines()\n",
    "\n",
    "# Save each BPE token to a new file\n",
    "with open('bpe_vocabulary_en.txt', 'w', encoding='utf-8') as vocab_file:\n",
    "    for token in bpe_tokens:\n",
    "        vocab_file.write(token.strip() + '\\n')\n",
    "\n",
    "# ha\n",
    "# Read the BPE codes and save them line by line\n",
    "with open('bpe_codes_ha.txt', 'r', encoding='utf-8') as f:\n",
    "    bpe_tokens = f.readlines()\n",
    "\n",
    "# Save each BPE token to a new file\n",
    "with open('bpe_vocabulary_ha.txt', 'w', encoding='utf-8') as vocab_file:\n",
    "    for token in bpe_tokens:\n",
    "        vocab_file.write(token.strip() + '\\n')"
   ]
  },
  {
   "cell_type": "markdown",
   "metadata": {},
   "source": [
    "# Question 4- Data Visualization\n",
    " (30 marks) Data visualization is an effective method to overall evaluate the quality of the data. Generally, the conventional visualizations include column histogram/chart, pie chart, venn diagram, scatter plot, heatmap, etc."
   ]
  },
  {
   "cell_type": "markdown",
   "metadata": {},
   "source": [
    " 1. Assume we have a set of employee records containing employee ID (Integer; 1-500), department (Categorical; HR, IT, Sales), sex (Binary; Male/Female), and years of experience (Integer; 0-40), we intend to analyze these attributes by visualization. Which visualization technique should be selected for different attributes?"
   ]
  },
  {
   "cell_type": "markdown",
   "metadata": {},
   "source": [
    "- department (Categorical; HR, IT, Sales)\n",
    "  \n",
    "  Bar chart.\n",
    "  \n",
    "- sex (Binary; Male/Female)\n",
    "  \n",
    "  Pie chart.\n",
    "  \n",
    "- years of experience (Integer; 0-40)\n",
    "  \n",
    "  Histogram."
   ]
  },
  {
   "cell_type": "markdown",
   "metadata": {},
   "source": [
    " 2. Write a Python Program to randomly generate 500 employee records based on the above descriptions and visualize the generated data using your selected techniques."
   ]
  },
  {
   "cell_type": "code",
   "execution_count": 126,
   "metadata": {},
   "outputs": [
    {
     "name": "stdout",
     "output_type": "stream",
     "text": [
      "     Employee ID Department     Sex  Years of Experience\n",
      "0              1         HR    Male                   25\n",
      "1              2      Sales  Female                   33\n",
      "2              3         HR  Female                   22\n",
      "3              4         HR  Female                   17\n",
      "4              5         IT    Male                   12\n",
      "..           ...        ...     ...                  ...\n",
      "495          496         IT    Male                    4\n",
      "496          497      Sales  Female                   34\n",
      "497          498         IT    Male                   18\n",
      "498          499         HR    Male                   23\n",
      "499          500      Sales    Male                   11\n",
      "\n",
      "[500 rows x 4 columns]\n"
     ]
    }
   ],
   "source": [
    "import pandas as pd\n",
    "import numpy as np\n",
    "\n",
    "# Constants\n",
    "employee_num  = 500\n",
    "departments = ['HR', 'IT', 'Sales']\n",
    "sexs = ['Male', 'Female']\n",
    "\n",
    "# Generate employee records\n",
    "employee_ids = np.arange(1, employee_num + 1)\n",
    "departments = np.random.choice(departments, employee_num)\n",
    "sexs = np.random.choice(sexs, employee_num)\n",
    "years_of_experience = np.random.randint(0, 41, employee_num)  # 0 to 40 years\n",
    "\n",
    "# Create a DataFrame\n",
    "employee_data = pd.DataFrame({\n",
    "    'Employee ID': employee_ids,\n",
    "    'Department': departments,\n",
    "    'Sex': sexs,\n",
    "    'Years of Experience': years_of_experience\n",
    "})\n",
    "\n",
    "print(employee_data)\n"
   ]
  },
  {
   "cell_type": "code",
   "execution_count": 162,
   "metadata": {},
   "outputs": [
    {
     "data": {
      "image/png": "[encoded data removed]",
      "text/plain": [
       "<Figure size 1000x600 with 1 Axes>"
      ]
     },
     "metadata": {},
     "output_type": "display_data"
    }
   ],
   "source": [
    "# Visualization\n",
    "import matplotlib.pyplot as plt\n",
    "import seaborn as sns\n",
    "\n",
    "# Set the style of the matplotlib figures to 'seaborn-whitegrid' for a clean look with grid lines\n",
    "plt.style.use(\"seaborn-v0_8-whitegrid\")\n",
    "\n",
    "# Bar chart of department\n",
    "plt.figure(figsize=(10, 6))\n",
    "sns.countplot(data=employee_data, x='Department', order=employee_data['Department'].value_counts().index)\n",
    "plt.title('Number of Employees by Department')\n",
    "plt.xlabel('Department')\n",
    "plt.ylabel('Number of Employees')\n",
    "plt.show()\n",
    "\n",
    "\n"
   ]
  },
  {
   "cell_type": "code",
   "execution_count": 142,
   "metadata": {},
   "outputs": [
    {
     "data": {
      "image/png": "[encoded data removed]",
      "text/plain": [
       "<Figure size 800x800 with 1 Axes>"
      ]
     },
     "metadata": {},
     "output_type": "display_data"
    }
   ],
   "source": [
    "# Pie Chart of gender\n",
    "\n",
    "# Group data by 'Sex' and count instances\n",
    "sexData = employee_data.groupby('Sex').size()\n",
    "\n",
    "# Make the plot with pandas\n",
    "plt.figure(figsize=(8, 8))  # Set the size of the figure\n",
    "# Create a pie chart\n",
    "sexData.plot(kind='pie', subplots=True, autopct='%1.1f%%', startangle=90, colors=plt.cm.Paired(np.arange(len(sexData))))\n",
    "# Note: 'autopct' automatically adds labels with the percentage format\n",
    "plt.title(\"Pie Chart of Sex\")  # Add a title\n",
    "plt.ylabel(\"\")  # Remove the y-label as it's not needed in pie charts\n",
    "\n",
    "# Show the plot\n",
    "plt.show()"
   ]
  },
  {
   "cell_type": "code",
   "execution_count": 146,
   "metadata": {},
   "outputs": [
    {
     "data": {
      "image/png": "[encoded data removed]",
      "text/plain": [
       "<Figure size 1000x600 with 1 Axes>"
      ]
     },
     "metadata": {},
     "output_type": "display_data"
    }
   ],
   "source": [
    "# Histgram of Years of Experience\n",
    "plt.figure(figsize=(10, 6))\n",
    "plt.hist(years_of_experience, bins=40, color='blue', alpha=0.7, edgecolor='black')  \n",
    "plt.title('Histogram of Employee-Years of Experience')\n",
    "plt.xlabel('Years of Experience')\n",
    "plt.ylabel('Frequency')\n",
    "plt.grid(axis='y', alpha=0.75)  # Add gridlines\n",
    "plt.show()"
   ]
  },
  {
   "cell_type": "markdown",
   "metadata": {},
   "source": [
    " 3. Calculate the number of employees per department and visualize the results using a bar chart for the generated\n",
    " data."
   ]
  },
  {
   "cell_type": "code",
   "execution_count": 164,
   "metadata": {},
   "outputs": [
    {
     "data": {
      "image/png": "[encoded data removed]",
      "text/plain": [
       "<Figure size 1000x600 with 1 Axes>"
      ]
     },
     "metadata": {},
     "output_type": "display_data"
    },
    {
     "name": "stdout",
     "output_type": "stream",
     "text": [
      "Sales: 183\n",
      "IT: 167\n",
      "HR: 150\n"
     ]
    }
   ],
   "source": [
    "import collections\n",
    "# Bar chart of department\n",
    "plt.figure(figsize=(10, 6))\n",
    "sns.countplot(data=employee_data, x='Department', order=employee_data['Department'].value_counts().index)\n",
    "plt.title('Number of Employees by Department')\n",
    "plt.xlabel('Department')\n",
    "plt.ylabel('Number of Employees')\n",
    "plt.show()\n",
    "\n",
    "sales_count = collections.Counter(departments).get('Sales')\n",
    "IT_count = collections.Counter(departments).get('IT')\n",
    "HR_count = collections.Counter(departments).get('HR')\n",
    "print(f'Sales: {sales_count}')\n",
    "print(f'IT: {IT_count}')\n",
    "print(f'HR: {HR_count}')\n"
   ]
  },
  {
   "cell_type": "markdown",
   "metadata": {},
   "source": [
    " 4. Attention[1] is a classic and popular technique in natural language processing. Given two vectors Q ∈ R5×10\n",
    " and K∈R5×10, the attention score of Q and K are calculated as:\n",
    " Attention Score(Q,K) = softmax(QKT√dk),\n",
    " where dk is the hidden dimension (10 in this case).\n",
    " Please randomly initialize Q and K vectors and visualize the attention score via heatmap.\n",
    "\n",
    " Reference [1] Vaswani, A., Shazeer, N., Parmar, N., Uszkoreit, J., Jones, L., Gomez, A. N., & Polosukhin, I. (2017).\n",
    " Attention is all you need. Advances in neural information processing systems"
   ]
  },
  {
   "cell_type": "code",
   "execution_count": 170,
   "metadata": {},
   "outputs": [
    {
     "data": {
      "image/png": "[encoded data removed]",
      "text/plain": [
       "<Figure size 800x600 with 2 Axes>"
      ]
     },
     "metadata": {},
     "output_type": "display_data"
    }
   ],
   "source": [
    "# define softmax function\n",
    "def softmax(x):\n",
    "    e_x = np.exp(x - np.max(x, axis=-1, keepdims=True))  # Subtract max for numerical stability\n",
    "    return e_x / e_x.sum(axis=-1, keepdims=True)\n",
    "\n",
    "def calculate_attention(Q, K):\n",
    "    \"\"\"\n",
    "    Calculate the attention scores.\n",
    "\n",
    "    Parameters:\n",
    "    Q: Query matrix (shape: [num_queries, d_k])\n",
    "    K: Key matrix (shape: [num_keys, d_k])\n",
    "\n",
    "    Returns:\n",
    "    Attention scores (shape: [num_queries, num_keys])\n",
    "    \"\"\"\n",
    "    d_k = K.shape[-1]  # Dimension of the key\n",
    "    scores = np.dot(Q, K.T) / np.sqrt(d_k)  # Calculate the dot product and scale\n",
    "    attention_score = softmax(scores)  # Apply softmax to get the attention weights\n",
    "    return attention_score\n",
    "\n",
    "# Randomly initialize Q and K\n",
    "Q = np.random.rand(5, 10)  # Query matrix (5 queries, 10 dimensions)\n",
    "K = np.random.rand(5, 10)  # Key matrix (5 keys, 10 dimensions)\n",
    "\n",
    "# Calculate attention scores\n",
    "attention_scores = calculate_attention(Q, K)\n",
    "\n",
    "# Visualize the attention scores using a heatmap\n",
    "plt.figure(figsize=(8, 6))\n",
    "sns.heatmap(attention_scores, annot=True, cmap='viridis', cbar=True, xticklabels=[f'K{i+1}' for i in range(K.shape[0])], yticklabels=[f'Q{i+1}' for i in range(Q.shape[0])])\n",
    "plt.title('Attention Scores Heatmap')\n",
    "plt.xlabel('Keys (K)')\n",
    "plt.ylabel('Queries (Q)')\n",
    "plt.show()"
   ]
  },
  {
   "cell_type": "code",
   "execution_count": null,
   "metadata": {},
   "outputs": [],
   "source": []
  }
 ],
 "metadata": {
  "colab": {
   "authorship_tag": "ABX9TyNPaeJFb+6pK0CNUOfFvC4z",
   "include_colab_link": true,
   "provenance": []
  },
  "kernelspec": {
   "display_name": "Python 3 (ipykernel)",
   "language": "python",
   "name": "python3"
  },
  "language_info": {
   "codemirror_mode": {
    "name": "ipython",
    "version": 3
   },
   "file_extension": ".py",
   "mimetype": "text/x-python",
   "name": "python",
   "nbconvert_exporter": "python",
   "pygments_lexer": "ipython3",
   "version": "3.12.4"
  }
 },
 "nbformat": 4,
 "nbformat_minor": 4
}
