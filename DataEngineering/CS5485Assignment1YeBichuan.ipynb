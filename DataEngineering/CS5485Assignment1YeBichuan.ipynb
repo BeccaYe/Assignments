{
  "nbformat": 4,
  "nbformat_minor": 0,
  "metadata": {
    "colab": {
      "provenance": [],
      "authorship_tag": "ABX9TyNOzHiwXpPeX8+h4OJIXBV0",
      "include_colab_link": true
    },
    "kernelspec": {
      "name": "python3",
      "display_name": "Python 3"
    },
    "language_info": {
      "name": "python"
    }
  },
  "cells": [
    {
      "cell_type": "markdown",
      "metadata": {
        "id": "view-in-github",
        "colab_type": "text"
      },
      "source": [
        "<a href=\"https://colab.research.google.com/github/BeccaYe/Assignments/blob/main/DataEngineering/CS5485Assignment1YeBichuan.ipynb\" target=\"_parent\"><img src=\"https://colab.research.google.com/assets/colab-badge.svg\" alt=\"Open In Colab\"/></a>"
      ]
    },
    {
      "cell_type": "markdown",
      "source": [
        "# Question 1 - Data Acquisition\n",
        "(20 marks) Social media content, including blogs, articles, news, and Twitter posts, provides valuable insights for\n",
        "data science. Acquiring high-quality social media data is essential yet challenging. While crowdsourcing is an option,\n",
        "it can be costly; thus, we prefer to collect data through web scraping.\n",
        "Please collect 30 pieces of social media content from designated websites, ensuring that the data meets the\n",
        "following criteria:\n",
        "1. Include articles, blogs, news, or posts along with their comments.\n",
        "2. Focus solely on the textual content.\n",
        "3. Ensure the data is formatted in a structured way (e.g., JSON or CSV).\n",
        "We provide some social media websites that you can take a try.\n",
        "* https://english.news.cn\n",
        "* https://www.bbc.com/news\n",
        "* https://medium.com\n",
        "* https://twitter.com\n",
        "\n",
        "Please submit your code and the obtained social media data.\n"
      ],
      "metadata": {
        "id": "ZhheSqq05u4Z"
      }
    },
    {
      "cell_type": "code",
      "source": [],
      "metadata": {
        "id": "Tj9mu8bj7ZpK"
      },
      "execution_count": null,
      "outputs": []
    },
    {
      "cell_type": "markdown",
      "source": [
        "# Question 2 - Data Preprocessing\n",
        "(30 marks) Regular Expressions, abbreviated as Regex or Regexp, are a string of characters created within the framework of Regex syntax rules. You can easily manage your data with Regex, which uses commands like finding, matching, and editing. Regex is an important tool during the data preprocessing stage.\n",
        "\n",
        "We take some exercises about regular expressions in Python"
      ],
      "metadata": {
        "id": "7yrTlTQZ6kvI"
      }
    },
    {
      "cell_type": "markdown",
      "source": [
        "1. Write a pattern to check if a string contains only letters (both uppercase and lowercase).\n",
        "- Test cases: Hello, world, 123abc\n",
        "\n"
      ],
      "metadata": {
        "id": "p_JbCyJ16k5g"
      }
    },
    {
      "cell_type": "code",
      "source": [],
      "metadata": {
        "id": "VScJJzoh7Lc5"
      },
      "execution_count": null,
      "outputs": []
    },
    {
      "cell_type": "markdown",
      "source": [
        "2. Write a pattern to find all words that start with a vowel.\n",
        "- Test cases: apple, banana, orange, grape"
      ],
      "metadata": {
        "id": "jYiFPfPg6lLw"
      }
    },
    {
      "cell_type": "code",
      "source": [],
      "metadata": {
        "id": "ukntecYb6WMK"
      },
      "execution_count": null,
      "outputs": []
    }
  ]
}